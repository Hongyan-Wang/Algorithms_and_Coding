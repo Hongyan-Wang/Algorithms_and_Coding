{
 "cells": [
  {
   "cell_type": "markdown",
   "id": "b4896b76-651a-4cb7-83bf-fbbb128eeb8a",
   "metadata": {},
   "source": [
    "# Greatest Common divisor (GCD) \n",
    "\n",
    "gcd (a,b) is the largest integer d so that d divides both a and b\n",
    "\n",
    "## Method 1\n",
    "Native algotithm\n",
    "\n",
    "## Method 2\n",
    "Euclidean algorithm \n",
    "\n",
    "O(t) = log(ab)"
   ]
  },
  {
   "cell_type": "code",
   "execution_count": 11,
   "id": "525bdb66-949e-4e56-8036-7449b47df53d",
   "metadata": {},
   "outputs": [],
   "source": [
    "def Navie_gcd(a, b):\n",
    "    best = 0\n",
    "    for d in range(1, min(a,b)+1):\n",
    "        if a%d == 0 and b%d == 0:\n",
    "            best = d\n",
    "    return best"
   ]
  },
  {
   "cell_type": "code",
   "execution_count": 12,
   "id": "6a6dba80-631e-42ec-b9a0-3f27de3a334e",
   "metadata": {
    "tags": []
   },
   "outputs": [
    {
     "name": "stdout",
     "output_type": "stream",
     "text": [
      "6\n"
     ]
    }
   ],
   "source": [
    "print(Navie_gcd(12,18))"
   ]
  },
  {
   "cell_type": "code",
   "execution_count": 13,
   "id": "d053e0de-1962-4565-b201-214a52d196a1",
   "metadata": {
    "tags": []
   },
   "outputs": [],
   "source": [
    "def lcm(a, b):\n",
    "    for l in range(1, a * b + 1):\n",
    "        if l % a == 0 and l % b == 0:\n",
    "            return l\n",
    "\n",
    "    assert False"
   ]
  },
  {
   "cell_type": "code",
   "execution_count": 17,
   "id": "1bebb953-703d-461b-88d4-0beea8d17160",
   "metadata": {
    "tags": []
   },
   "outputs": [],
   "source": [
    "def Euclidean_gcd(a,b):\n",
    "    if b == 0:\n",
    "        return a\n",
    "    return Euclidean_gcd(b,(a%b))"
   ]
  },
  {
   "cell_type": "code",
   "execution_count": 18,
   "id": "2beaad6b-5144-43a8-99cc-a68c095b9a8a",
   "metadata": {
    "tags": []
   },
   "outputs": [
    {
     "name": "stdout",
     "output_type": "stream",
     "text": [
      "61232\n"
     ]
    }
   ],
   "source": [
    "print(Euclidean_gcd(3918848, 1653264))"
   ]
  },
  {
   "cell_type": "code",
   "execution_count": null,
   "id": "e578fdc0-fe70-4e4a-8006-86dd7c412f7c",
   "metadata": {},
   "outputs": [],
   "source": []
  }
 ],
 "metadata": {
  "kernelspec": {
   "display_name": "Python 3 (ipykernel)",
   "language": "python",
   "name": "python3"
  },
  "language_info": {
   "codemirror_mode": {
    "name": "ipython",
    "version": 3
   },
   "file_extension": ".py",
   "mimetype": "text/x-python",
   "name": "python",
   "nbconvert_exporter": "python",
   "pygments_lexer": "ipython3",
   "version": "3.11.4"
  }
 },
 "nbformat": 4,
 "nbformat_minor": 5
}
